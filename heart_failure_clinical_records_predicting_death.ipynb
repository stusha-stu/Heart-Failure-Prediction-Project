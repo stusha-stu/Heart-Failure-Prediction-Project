{
 "cells": [
  {
   "cell_type": "markdown",
   "id": "2b13e804",
   "metadata": {},
   "source": [
    "## Импорт "
   ]
  },
  {
   "cell_type": "code",
   "execution_count": null,
   "id": "5f3db186",
   "metadata": {
    "scrolled": true
   },
   "outputs": [],
   "source": [
    "import pandas as pd\n",
    "!pip3 install catboost\n",
    "import matplotlib.pyplot as plt\n",
    "import seaborn as sns\n",
    "data = pd.read_csv('heart_failure_clinical_records_dataset.csv')\n",
    "import warnings\n",
    "warnings.filterwarnings('ignore')\n",
    "from sklearn.ensemble import RandomForestClassifier\n",
    "from sklearn.linear_model import LogisticRegression\n",
    "from sklearn.model_selection import train_test_split \n",
    "from sklearn.metrics import f1_score, recall_score, precision_score\n",
    "from sklearn.metrics import roc_auc_score\n",
    "from sklearn.metrics import roc_curve\n",
    "RANDOM_STATE=1234\n",
    "from sklearn.model_selection import cross_val_score\n",
    "from catboost import CatBoostClassifier\n",
    "from sklearn.model_selection import GridSearchCV\n",
    "from sklearn.preprocessing import StandardScaler\n",
    "from sklearn.metrics import confusion_matrix\n",
    "import numpy as np\n"
   ]
  },
  {
   "cell_type": "markdown",
   "id": "8c130777",
   "metadata": {},
   "source": [
    "## Разведочный анализ данных"
   ]
  },
  {
   "cell_type": "markdown",
   "id": "ba95ec4e",
   "metadata": {},
   "source": [
    "### Общая информация, целевой признак."
   ]
  },
  {
   "cell_type": "markdown",
   "id": "e24e2ad3",
   "metadata": {},
   "source": [
    "- `age` - возраст пациента (0-120, старше и младше не бывает)\n",
    "- `anaemia` - снижение показателей красных кровяных телец или гемоглобина (бинарный)\n",
    "- `creatinine_phosphokinase` - уровень фермента КФК в крови (мкг/л)\n",
    "- `diabetes` - наличие диабета (бинарный)\n",
    "- `ejection_fraction` - процент крови, покидающей сердце при каждом сокращении (в процентах, диапазон значений от 0 до 100)\n",
    "- `high_blood_pressure` - наличие гипертонии (бинарный)\n",
    "- `platelets` - тромбоциты в крови (1000/мл)\n",
    "- `serum_creatinine` - уровень сывороточного креатинина в крови (мг/дл)\n",
    "- `serum_sodium` - уровень сывороточного натрия в крови (мэкв/л)\n",
    "- `sex` - женщина или мужчина (бинарный)\n",
    "- `smoking` - курит пациент или нет (бинарный)\n",
    "- `time` - период наблюдения (дни) \n",
    "- `DEATH_EVENT` - целевой признак, пациент умер в течение периода наблюдения (бинарный)"
   ]
  },
  {
   "cell_type": "code",
   "execution_count": null,
   "id": "da1713f8",
   "metadata": {},
   "outputs": [],
   "source": [
    "data.sample(8)"
   ]
  },
  {
   "cell_type": "code",
   "execution_count": null,
   "id": "2a938879",
   "metadata": {},
   "outputs": [],
   "source": [
    "data = data.rename(columns = {'DEATH_EVENT':'death_event'})"
   ]
  },
  {
   "cell_type": "code",
   "execution_count": null,
   "id": "f3a57e4f",
   "metadata": {},
   "outputs": [],
   "source": [
    "data.info()"
   ]
  },
  {
   "cell_type": "markdown",
   "id": "e5f82aab",
   "metadata": {},
   "source": [
    "Всего в датасете 299 строк. Пропущенных значений нет. Признаки в основном целочисленные, три с плавающей запятой."
   ]
  },
  {
   "cell_type": "markdown",
   "id": "015af77a",
   "metadata": {},
   "source": [
    "Преобразуем тип данных столбца age."
   ]
  },
  {
   "cell_type": "code",
   "execution_count": null,
   "id": "538e9474",
   "metadata": {},
   "outputs": [],
   "source": [
    "data['age'] = data['age'].astype(int)"
   ]
  },
  {
   "cell_type": "code",
   "execution_count": null,
   "id": "63eb1555",
   "metadata": {
    "scrolled": true
   },
   "outputs": [],
   "source": [
    "data.duplicated().sum()"
   ]
  },
  {
   "cell_type": "markdown",
   "id": "7188a618",
   "metadata": {},
   "source": [
    "Дублей не наблюдается.\n"
   ]
  },
  {
   "cell_type": "markdown",
   "id": "a65552ff",
   "metadata": {},
   "source": [
    "Посмотрим на описание данных. Проверим, что все признаки неотрицательные."
   ]
  },
  {
   "cell_type": "code",
   "execution_count": null,
   "id": "f0e6fc1c",
   "metadata": {},
   "outputs": [],
   "source": [
    "data.describe()"
   ]
  },
  {
   "cell_type": "markdown",
   "id": "c18a86ec",
   "metadata": {},
   "source": [
    "Да, все неотрицательные, в допустимых диапазонах (для тех значений, которые мы обозначили ранее).\n"
   ]
  },
  {
   "cell_type": "markdown",
   "id": "7d6d1596",
   "metadata": {},
   "source": [
    "Посмотрим как выглядит целевой признак, оценим дисбаланс классов."
   ]
  },
  {
   "cell_type": "code",
   "execution_count": null,
   "id": "9e43aeee",
   "metadata": {
    "scrolled": false
   },
   "outputs": [],
   "source": [
    "#sns.countplot('death_event', data=data)\n",
    "sns.countplot(x=data['death_event'])"
   ]
  },
  {
   "cell_type": "markdown",
   "id": "b46316ea",
   "metadata": {},
   "source": [
    "Зафиксированых случаев смерти почти в два раза меньше чем случев с положительным исходом, таким образом имеется явный дисбаланс классов."
   ]
  },
  {
   "cell_type": "markdown",
   "id": "c8822121",
   "metadata": {},
   "source": [
    "Посмотри еще раз на описание данных с целью понимания разброса значений признаков."
   ]
  },
  {
   "cell_type": "code",
   "execution_count": null,
   "id": "df54824d",
   "metadata": {},
   "outputs": [],
   "source": [
    "data.describe().T"
   ]
  },
  {
   "cell_type": "markdown",
   "id": "0f6b6fa4",
   "metadata": {},
   "source": [
    "Итак, почти все признаки, кроме `creatinine_phosphokinase` и `serum_creatinine`, показывают нормальное распределение, поскольку их медиана и среднее значение(второй квартиль) почти совпадают. Для визуализации распределений воспользуемся функцией displot()."
   ]
  },
  {
   "cell_type": "code",
   "execution_count": null,
   "id": "086a584e",
   "metadata": {},
   "outputs": [],
   "source": [
    "list_of_numerical_features = ['age', 'creatinine_phosphokinase', 'ejection_fraction', 'platelets', 'serum_creatinine', 'serum_sodium', 'time']\n",
    "\n",
    "fig, ax = plt.subplots(nrows = 3,ncols = 2,figsize = (20,20))\n",
    "for i in range(len(list_of_numerical_features)):\n",
    "    plt.subplot(4,2,i+1)\n",
    "    sns.distplot(data[list_of_numerical_features[i]],color = 'g', kde_kws = {'bw' : True});\n",
    "    title = list_of_numerical_features[i]\n",
    "    plt.title(title)"
   ]
  },
  {
   "cell_type": "code",
   "execution_count": null,
   "id": "68240c84",
   "metadata": {},
   "outputs": [],
   "source": [
    "#list_of_categorical_features = ['anaemia', 'diabetes', 'high_blood_pressure', 'sex', 'smoking', 'death_event']\n",
    "\n",
    "#fig, ax = plt.subplots(nrows = 3,ncols = 2,figsize = (15,15))\n",
    "#for i in range(len(list_of_categorical_features)):\n",
    "    #plt.subplot(3,2,i+1)\n",
    "    #sns.distplot(data[list_of_categorical_features[i]],color = 'g', kde_kws = {'bw' : True});\n",
    "    #title = list_of_categorical_features[i]\n",
    "    #plt.title(title)"
   ]
  },
  {
   "cell_type": "markdown",
   "id": "3ade5108",
   "metadata": {},
   "source": [
    "Используя тепловую карту, посмторим на корреляцию величин."
   ]
  },
  {
   "cell_type": "code",
   "execution_count": null,
   "id": "4d25fa04",
   "metadata": {},
   "outputs": [],
   "source": [
    "correlation_matrix = data.corr()\n",
    "\n",
    "plt.figure(figsize= (16, 8))\n",
    "sns.heatmap(correlation_matrix, annot = True)"
   ]
  },
  {
   "cell_type": "markdown",
   "id": "63977c5f",
   "metadata": {},
   "source": [
    "Видим, что положительная корреляция есть между полом и курением. Отрицательная корреляция наблюдается между временем наблюдения и целевым признаком. Несильная связь есть между целевым признаком и возрастом, уровнем креатинина и натрия (разнонаправленные) и размером выброса крови при сокращении сердца. "
   ]
  },
  {
   "cell_type": "markdown",
   "id": "f36f768a",
   "metadata": {},
   "source": [
    "С помощью boxplot() удобно проверить наличие выбросов(для небинарных признаков), swarmplot() наглядно продемонстрирует распределение значений признаков, а так же их взаимосвязь с целевым признаком."
   ]
  },
  {
   "cell_type": "code",
   "execution_count": null,
   "id": "fdaeec41",
   "metadata": {
    "scrolled": false
   },
   "outputs": [],
   "source": [
    "feature_for_boxplot = ['age', 'creatinine_phosphokinase', 'ejection_fraction', 'platelets','time','serum_creatinine', 'serum_sodium']\n",
    "for i in range(len(feature_for_boxplot)):\n",
    "    plt.figure(figsize=(10,10))\n",
    "    #sns.stripplot(y=data[feature_for_boxplot[i]], x=data['death_event'], color='black')\n",
    "    sns.swarmplot(y=data[feature_for_boxplot[i]], x=data['death_event'], color='black')\n",
    "    sns.boxplot(y=data[feature_for_boxplot[i]], x=data['death_event'])\n",
    "    plt.show\n"
   ]
  },
  {
   "cell_type": "markdown",
   "id": "ba10bdd7",
   "metadata": {},
   "source": [
    "Почти во всех признаках наблюдаются выбросы. Учитывая размер и релевантость выборки выбросы удалять не будем.\n",
    "Выводы: чем страше возраст, тем больше  смертей фиксируется, то есть прослеживается положительная корреляция. По мере уменьшения `ejection_fraction`  люди умирают больше, для `serum_sodium` аналогично. Для `creatinine_phosphokinase` медианы слева накладываются друг на друга - выводы относительно этого признака сделать нельзя на данном этапе, возможно, что имеется более сложная взаимосвязь между величиной этого параметра и смертностью, нечто похожее наблюдается и в случае признака `platelets` . При повышении `serum_creatinine`  наблюдается повышени смертности, то есть мы видим положительную корреляцию. Относительно времени можно заключить следующее: чем меньше время наблюдения, тем выше вероятность летального исхода, иными словами, чем больше человек под наблюдением, тем выше шанс выживания."
   ]
  },
  {
   "cell_type": "markdown",
   "id": "deb51d3c",
   "metadata": {},
   "source": [
    "Проанализируем, как зависит целевой признак от наличия того или иного признака(бинарного)."
   ]
  },
  {
   "cell_type": "code",
   "execution_count": null,
   "id": "8aad84d9",
   "metadata": {
    "scrolled": false
   },
   "outputs": [],
   "source": [
    "list_of_categorical_features = ['anaemia', 'diabetes', 'high_blood_pressure', 'sex', 'smoking', 'death_event']\n",
    "for i in range(len(list_of_categorical_features)-1):\n",
    "    table = data.pivot_table(index=list_of_categorical_features[i], values='death_event', aggfunc=['sum','count'])\n",
    "    table.columns = ['number_of_death','number_of_observations']\n",
    "    table['mortality_rate'] = table['number_of_death']/table['number_of_observations']\n",
    "    display(table)\n",
    "    sns.countplot(x = data[list_of_categorical_features[i]],data=data, hue='death_event');\n",
    "    title = list_of_categorical_features[i] + ' and death_event' \n",
    "    plt.title(title)\n",
    "    plt.show()\n"
   ]
  },
  {
   "cell_type": "markdown",
   "id": "664c630f",
   "metadata": {},
   "source": [
    "Согласно графикам и расчетам в таблицах можно отметить следующее: риски смертности увеличивается при наличии анемии и высокого давления, диабет, курение и пол не повышают риски.\n",
    "\n",
    "Но, очень важно отметить, что имеется явный дисбаланс в данных, на последнем примере это очень хорошо видно, подгруппа курящих пациентов более чем в два раза меньше подгруппы некурящих, это затрудняет сделать правильный вывод относительно смертности по данному признаку. Это распространяется и на другие группы.\n",
    "\n",
    "Поэтому, основываясь на данных, которые у нас имеются, мы не можем с уверенностью считать, что наши выводы до конца корректны. "
   ]
  },
  {
   "cell_type": "code",
   "execution_count": null,
   "id": "ff583169",
   "metadata": {
    "scrolled": false
   },
   "outputs": [],
   "source": [
    "list_drop = list_of_categorical_features + ['time'] \n",
    "list_drop.remove('death_event')\n",
    "data_numerical = data.drop(list_drop, axis=1)\n",
    "display(data_numerical)\n",
    "sns.pairplot(data_numerical, hue='death_event')"
   ]
  },
  {
   "cell_type": "markdown",
   "id": "d2e7ecdf",
   "metadata": {},
   "source": [
    "Видим, что данные кучкуются в некоторых параметрах (хорошо видно на времени наблюдения, как на первых неделях высока смертность, на объёме сердцебиения можно заметить). По диагональным распределениям можно сказать, что чем сильнее различаются кривые, тем заметней влияние величин друг на друга. Скорее всего, влияние параметра, связанного с тромбоцитами, будет несущественное, его можно исключить из параметров для обучения модели предсказания. Оранжевая кривая полностью скрывается под синей, симметрично и с максимумом на одной оси (визуально)."
   ]
  },
  {
   "cell_type": "markdown",
   "id": "a671e817",
   "metadata": {},
   "source": [
    "### Моделирование"
   ]
  },
  {
   "cell_type": "markdown",
   "id": "23dd9079",
   "metadata": {},
   "source": [
    " В переменных features_train, target_train и features_test,target_test сохраним данные для тренировки и теста, соответственно. "
   ]
  },
  {
   "cell_type": "code",
   "execution_count": null,
   "id": "2511e8c7",
   "metadata": {},
   "outputs": [],
   "source": [
    "features = data.drop(['death_event'], axis=1) # признаки\n",
    "target = data['death_event'] # целевые признаки\n",
    "\n",
    "features_train, features_test, target_train, target_test = train_test_split(features, target, test_size = 0.2, random_state = 12345, stratify=target)\n"
   ]
  },
  {
   "cell_type": "markdown",
   "id": "09a9ba74",
   "metadata": {},
   "source": [
    "В качестве метрики используем f1-score, чтобы балансировать ошибки первого и второго рода. "
   ]
  },
  {
   "cell_type": "code",
   "execution_count": null,
   "id": "52efff4f",
   "metadata": {},
   "outputs": [],
   "source": [
    "rating_list = {\n",
    "    'f1-score': [],\n",
    "    'recall-score': [],\n",
    "    'precision-score': []\n",
    "}"
   ]
  },
  {
   "cell_type": "code",
   "execution_count": null,
   "id": "c53efb6a",
   "metadata": {},
   "outputs": [],
   "source": [
    "def print_scores(model, features, target):\n",
    "    score_f1 = cross_val_score(model, features, target, scoring=\"f1\", cv=5)\n",
    "    score_recall = cross_val_score(model, features, target, scoring=\"recall\", cv=5)\n",
    "    score_precision = cross_val_score(model, features, target, scoring=\"precision\", cv=5)\n",
    "\n",
    "    print('Диапазон значений метрик:')\n",
    "    print('f1-score:', score_f1)\n",
    "    print(\"recall-score:\", score_recall)\n",
    "    print(\"precision-score:\", score_precision)\n",
    "    print('\\nСредние значения метрик:')\n",
    "    print('f1-score:', score_f1.mean())\n",
    "    print(\"recall-score:\", score_recall.mean())\n",
    "    print(\"precision-score:\", score_precision.mean())\n",
    "    #print(sum(score_recall)/len(score_recall))\n",
    "    \n",
    "    \n",
    "    rating_list['f1-score'].append(score_f1.mean())\n",
    "    rating_list['recall-score'].append(score_recall.mean())\n",
    "    rating_list['precision-score'].append(score_precision.mean())\n",
    "    \n",
    "   "
   ]
  },
  {
   "cell_type": "code",
   "execution_count": null,
   "id": "f8bd5a12",
   "metadata": {},
   "outputs": [],
   "source": [
    "# случайный лес\n",
    "model_forest = RandomForestClassifier(random_state=RANDOM_STATE)\n",
    "model_forest.fit(features_train, target_train)\n",
    "# predicted = model.predict(features_test)\n",
    "# print('f1-score:', f1_score(target_test, predicted))\n",
    "# print(\"roc-auc-score:\" , roc_auc_score(target_test, predicted))\n",
    "\n",
    "print_scores(model_forest, features_train, target_train)\n"
   ]
  },
  {
   "cell_type": "code",
   "execution_count": null,
   "id": "8a4a5160",
   "metadata": {},
   "outputs": [],
   "source": [
    "# логистическая регрессия\n",
    "model_log = LogisticRegression(random_state=RANDOM_STATE)\n",
    "model_log.fit(features_train, target_train)\n",
    "\n",
    "print_scores(model_log, features_train, target_train)\n",
    "\n"
   ]
  },
  {
   "cell_type": "code",
   "execution_count": null,
   "id": "8da087c3",
   "metadata": {
    "scrolled": true
   },
   "outputs": [],
   "source": [
    "# CatBoostClassifier\n",
    "model_cat = CatBoostClassifier(random_state=RANDOM_STATE, silent=True)\n",
    "model_cat.fit(features_train, target_train)\n",
    "\n",
    "print_scores(model_cat, features_train, target_train)\n"
   ]
  },
  {
   "cell_type": "code",
   "execution_count": null,
   "id": "53d33e88",
   "metadata": {},
   "outputs": [],
   "source": [
    "rating_table = {\n",
    "    'Model': ['RandomForestClassifier', 'LogisticRegression', 'CatBoostClassifier'],\n",
    "    'f1-score': rating_list['f1-score'],\n",
    "    'recall-score': rating_list['recall-score'],\n",
    "    'precision-score': rating_list['precision-score']\n",
    "}\n",
    "rating_table = pd.DataFrame(rating_table)\n",
    "rating_table.sort_values('f1-score', ascending=False).style.highlight_max(subset=['f1-score',\\\n",
    "                                                                    'recall-score', 'precision-score'])"
   ]
  },
  {
   "cell_type": "markdown",
   "id": "b07d9b2f",
   "metadata": {},
   "source": [
    "Таким образом, случайный лес имеет лучшие оценки на валидационных данных по метрике f1.\n",
    "При этом положительный класс лучше определяет CatBoost."
   ]
  },
  {
   "cell_type": "markdown",
   "id": "86922ecb",
   "metadata": {},
   "source": [
    "### Подбор параметров\n",
    "Подберём параметры для каждой модели. Критерием будет метрика f1."
   ]
  },
  {
   "cell_type": "code",
   "execution_count": null,
   "id": "5f1ee25a",
   "metadata": {
    "scrolled": true
   },
   "outputs": [],
   "source": [
    "# баланс классов\n",
    "#target_train.value_counts(normalize=True)"
   ]
  },
  {
   "cell_type": "code",
   "execution_count": null,
   "id": "6e400206",
   "metadata": {},
   "outputs": [],
   "source": [
    "scaler = StandardScaler()\n",
    "scaler.fit(features_train) \n",
    "features_train_scaled = scaler.transform(features_train)"
   ]
  },
  {
   "cell_type": "code",
   "execution_count": null,
   "id": "5c1d0193",
   "metadata": {},
   "outputs": [],
   "source": [
    "rating_list = {\n",
    "    'f1-score': [],\n",
    "    'recall-score': [],\n",
    "    'precision-score': []\n",
    "}"
   ]
  },
  {
   "cell_type": "markdown",
   "id": "c5341539",
   "metadata": {},
   "source": [
    "#### случайный лес"
   ]
  },
  {
   "cell_type": "code",
   "execution_count": null,
   "id": "f3fdcf2d",
   "metadata": {},
   "outputs": [],
   "source": [
    "parameters = {'n_estimators' : range (1, 100, 2), \n",
    "              'max_depth' : range (1, 20, 2), \n",
    "              'bootstrap' : ('True', 'False'),\n",
    "              'class_weight':('balanced', 'None','balanced_subsample', [0.30, 0.70], [0.70, 0.30])\n",
    "             }\n",
    "\n",
    "grid_forest = GridSearchCV(RandomForestClassifier(random_state=RANDOM_STATE), parameters,\\\n",
    "                           scoring='f1', cv = 5, n_jobs= -1)   # , class_weight = 'balanced'\n",
    "grid_forest.fit(features_train_scaled, target_train)\n",
    "\n",
    "grid_forest.best_params_"
   ]
  },
  {
   "cell_type": "code",
   "execution_count": null,
   "id": "2eb01f19",
   "metadata": {
    "scrolled": true
   },
   "outputs": [],
   "source": [
    "model_forest = RandomForestClassifier(n_estimators=grid_forest.best_params_.get('n_estimators'),\\\n",
    "                                      max_depth=grid_forest.best_params_.get('max_depth'),\\\n",
    "                                      bootstrap=grid_forest.best_params_.get('bootstrap'), random_state=RANDOM_STATE, class_weight=grid_forest.best_params_.get('class_weight'))\n",
    "\n"
   ]
  },
  {
   "cell_type": "code",
   "execution_count": null,
   "id": "c2e3c7b6",
   "metadata": {},
   "outputs": [],
   "source": [
    "print('f1-score:', grid_forest.best_score_)"
   ]
  },
  {
   "cell_type": "code",
   "execution_count": null,
   "id": "7b6f189c",
   "metadata": {},
   "outputs": [],
   "source": [
    "score_recall = cross_val_score(model_forest, features, target, scoring=\"recall\", cv=5)\n",
    "score_precision = cross_val_score(model_forest, features, target, scoring=\"precision\", cv=5)\n",
    "rating_list['f1-score'].append(grid_forest.best_score_)\n",
    "rating_list['recall-score'].append(score_recall.mean())\n",
    "rating_list['precision-score'].append(score_precision.mean())\n"
   ]
  },
  {
   "cell_type": "markdown",
   "id": "01679c7e",
   "metadata": {},
   "source": [
    "#### логистическая регрессия"
   ]
  },
  {
   "cell_type": "code",
   "execution_count": null,
   "id": "57532323",
   "metadata": {},
   "outputs": [],
   "source": [
    "parameters = {'solver':('liblinear', 'newton-cg', 'sag', 'saga', 'lbfgs'), \n",
    "              'max_iter': range(1,120, 10),\n",
    "              'class_weight':('balanced', 'None', [0.30, 0.70], [0.70, 0.30])\n",
    "             }  \n",
    "\n",
    "grid_log = GridSearchCV(LogisticRegression(random_state=RANDOM_STATE), parameters, scoring=\"f1\",\\\n",
    "                        cv = 5)\n",
    "grid_log.fit(features_train_scaled, target_train)\n",
    "\n",
    "grid_log.best_params_"
   ]
  },
  {
   "cell_type": "code",
   "execution_count": null,
   "id": "c1877afc",
   "metadata": {},
   "outputs": [],
   "source": [
    "model_log = LogisticRegression(solver=grid_log.best_params_.get('solver'),\\\n",
    "                               max_iter=grid_log.best_params_.get('max_iter'),\\\n",
    "                               class_weight=grid_log.best_params_.get('class_weight'), random_state=RANDOM_STATE)\n",
    "\n",
    "#print_scores(model_log, features_train_scaled, target_train)"
   ]
  },
  {
   "cell_type": "code",
   "execution_count": null,
   "id": "0649d7af",
   "metadata": {},
   "outputs": [],
   "source": [
    "print('f1-score:', grid_log.best_score_)"
   ]
  },
  {
   "cell_type": "code",
   "execution_count": null,
   "id": "76de3b3a",
   "metadata": {},
   "outputs": [],
   "source": [
    "score_recall = cross_val_score(model_log, features, target, scoring=\"recall\", cv=5)\n",
    "score_precision = cross_val_score(model_log, features, target, scoring=\"precision\", cv=5)\n",
    "rating_list['f1-score'].append(grid_log.best_score_)\n",
    "rating_list['recall-score'].append(score_recall.mean())\n",
    "rating_list['precision-score'].append(score_precision.mean())"
   ]
  },
  {
   "cell_type": "markdown",
   "id": "3653a73e",
   "metadata": {},
   "source": [
    "#### CatBoost"
   ]
  },
  {
   "cell_type": "code",
   "execution_count": null,
   "id": "9d535d0f",
   "metadata": {},
   "outputs": [],
   "source": [
    "parameters_cat = {'l2_leaf_reg': range (1, 15, 2), \n",
    "                  'iterations' : range(1, 100, 10),\n",
    "                  'learning_rate':[0.03, 0.07, 0.1, 0.13, 0.17],\n",
    "                  'max_depth' : range(1, 10, 2),\n",
    "                 }\n",
    "\n",
    "grid_cat = GridSearchCV(CatBoostClassifier(random_state=RANDOM_STATE),\\\n",
    "                        parameters_cat, scoring=\"f1\",  cv = 5, n_jobs= -1)\n",
    "grid_cat.fit(features_train_scaled, target_train, silent=True)\n",
    "grid_cat.best_params_"
   ]
  },
  {
   "cell_type": "code",
   "execution_count": null,
   "id": "aa5a2955",
   "metadata": {},
   "outputs": [],
   "source": [
    "model_cat = CatBoostClassifier(l2_leaf_reg=grid_cat.best_params_.get('l2_leaf_reg'),\\\n",
    "                               iterations=grid_cat.best_params_.get('iterations'),\\\n",
    "                               learning_rate=grid_cat.best_params_.get('learning_rate'),\\\n",
    "                               max_depth=grid_cat.best_params_.get('max_depth'),\\\n",
    "                               random_state=RANDOM_STATE, silent=True)\n",
    "\n",
    "#print_scores(model_cat, features_train_scaled, target_train)"
   ]
  },
  {
   "cell_type": "code",
   "execution_count": null,
   "id": "6d0dfb24",
   "metadata": {},
   "outputs": [],
   "source": [
    "print('f1-score:', grid_cat.best_score_)"
   ]
  },
  {
   "cell_type": "code",
   "execution_count": null,
   "id": "87f8ed17",
   "metadata": {},
   "outputs": [],
   "source": [
    "score_recall = cross_val_score(model_cat, features, target, scoring=\"recall\", cv=5)\n",
    "score_precision = cross_val_score(model_cat, features, target, scoring=\"precision\", cv=5)\n",
    "rating_list['f1-score'].append(grid_cat.best_score_)\n",
    "rating_list['recall-score'].append(score_recall.mean())\n",
    "rating_list['precision-score'].append(score_precision.mean())"
   ]
  },
  {
   "cell_type": "code",
   "execution_count": null,
   "id": "ea7d6516",
   "metadata": {},
   "outputs": [],
   "source": [
    "rating_table = {\n",
    "    'Algorithm': ['RandomForestClassifier', 'LogisticRegression', 'CatBoostClassifier'],\n",
    "    'f1-score': rating_list['f1-score'],\n",
    "    'recall-score': rating_list['recall-score'],\n",
    "    'precision-score': rating_list['precision-score']\n",
    "}\n",
    "rating_table = pd.DataFrame(rating_table)\n",
    "rating_table.sort_values('f1-score', ascending=False).style.highlight_max(subset=['f1-score',\\\n",
    "                                                 'recall-score', 'precision-score'])"
   ]
  },
  {
   "cell_type": "markdown",
   "id": "c13b943e",
   "metadata": {},
   "source": [
    "После масштабирования признаков и подбора параметров ситуация _________________"
   ]
  },
  {
   "cell_type": "markdown",
   "id": "9228bb73",
   "metadata": {},
   "source": [
    "### Тестирование"
   ]
  },
  {
   "cell_type": "code",
   "execution_count": null,
   "id": "4c9d28ed",
   "metadata": {},
   "outputs": [],
   "source": [
    "scaler = StandardScaler()\n",
    "scaler.fit(features_test) \n",
    "features_test_scaled = scaler.transform(features_test)\n",
    "\n",
    "#model = LogisticRegression(random_state=12345, solver='liblinear', max_iter=120, class_weight='balanced')\n",
    "best_model= model_log.fit(features_train_scaled, target_train)\n",
    "predictions = best_model.predict(features_test_scaled)\n",
    "#print(\"f1-score для логистической регрессии:\", f1_score(target_test, predictions_test_LogisticRegression))\n",
    "print('f1-score:', f1_score(target_test, predictions))\n",
    "print('recall-score:', recall_score(target_test, predictions))\n",
    "print(\"precision-score:\" , precision_score(target_test, predictions))"
   ]
  },
  {
   "cell_type": "code",
   "execution_count": null,
   "id": "3912dc8b",
   "metadata": {},
   "outputs": [],
   "source": [
    "conf_matrix = confusion_matrix(target_test, predictions)\n",
    "table_conf_matrix = pd.DataFrame(data=conf_matrix, columns=['prediction 0','prediction 1'],\\\n",
    "                                 index=['actual 0','actual 1'])\n",
    "#labels = ['True Neg','False Pos','False Neg','True Pos']\n",
    "#labels = np.asarray(labels).rashape(2,2)\n",
    "plt.figure(figsize = (8,5))\n",
    "sns.heatmap(table_conf_matrix, annot=True, cmap='Greens_r')"
   ]
  },
  {
   "cell_type": "markdown",
   "id": "e9b55be4",
   "metadata": {},
   "source": [
    "Оценка точности на тестовой выборке ____ по метрике f1 для модели _____________________."
   ]
  },
  {
   "cell_type": "markdown",
   "id": "4fd485be",
   "metadata": {},
   "source": [
    "### Выводы"
   ]
  },
  {
   "cell_type": "markdown",
   "id": "69c7fe71",
   "metadata": {},
   "source": []
  },
  {
   "cell_type": "code",
   "execution_count": null,
   "id": "17b8fe78",
   "metadata": {},
   "outputs": [],
   "source": []
  }
 ],
 "metadata": {
  "kernelspec": {
   "display_name": "Python 3 (ipykernel)",
   "language": "python",
   "name": "python3"
  },
  "language_info": {
   "codemirror_mode": {
    "name": "ipython",
    "version": 3
   },
   "file_extension": ".py",
   "mimetype": "text/x-python",
   "name": "python",
   "nbconvert_exporter": "python",
   "pygments_lexer": "ipython3",
   "version": "3.9.7"
  }
 },
 "nbformat": 4,
 "nbformat_minor": 5
}
